{
 "cells": [
  {
   "cell_type": "markdown",
   "metadata": {},
   "source": [
    "# RL algorithm performance test\n",
    "## TEST: Solve *dyna maze* by RL algorithms\n",
    "\n",
    "```\n",
    "-------XG\n",
    "--X----X-\n",
    "S-X----X-\n",
    "--X------\n",
    "-----X---\n",
    "---------\n",
    "```\n",
    "**dyna maze**   (S: start, X: block, G: goal)\n",
    "\n",
    "### Algorithms for Test\n",
    "\n",
    "1. MonteCarlo (tabular and approximation)\n",
    "2. Sarsa (tabular and approximation)\n",
    "3. QLeaning (tabular and approximation)\n",
    "4. Deep Q-Learning\n",
    "\n",
    "#### Epsilon annealing\n",
    "Each algorithm runs with 3 types of epsilon annealing.  \n",
    "\n",
    "1. short annealing\n",
    "    - annealing length = TEST_LENGTH* 0.1 = 10, start epsilon=1.0, final epsilon=0.1\n",
    "2. middle annealing\n",
    "    - annealing length = TEST_LENGTH* 0.5 = 10, start epsilon=1.0, final epsilon=0.1\n",
    "3. long annealing\n",
    "    - annealing length = TEST_LENGTH* 1.0 = 10, start epsilon=1.0, final epsilon=0.1"
   ]
  },
  {
   "cell_type": "markdown",
   "metadata": {},
   "source": [
    "### MonteCarlo\n",
    "#### Tabular ( plot is made by averaging 10-times-run )\n",
    "<img src=\"./performance_tabular_montecarlo_1229_14_40_09.png\" />\n",
    "#### Approximation\n",
    "N/A"
   ]
  },
  {
   "cell_type": "markdown",
   "metadata": {},
   "source": [
    "### Sarsa\n",
    "#### Tabular ( plot is made by averaging 10-times-run )\n",
    "<img src=\"./performance_tabular_sarsa_1229_14_41_55.png\" />\n",
    "#### Approximation\n",
    "<img src=\"./performance_approx_sarsa_1229_15_05_18.png\" />"
   ]
  },
  {
   "cell_type": "markdown",
   "metadata": {},
   "source": [
    "### QLearning\n",
    "#### Tabular ( plot is made by averaging 10-times-run )\n",
    "<img src=\"./performance_tabular_q_learning_1229_14_43_35.png\" />\n",
    "#### Approximation\n",
    "<img src=\"./performance_approx_q_learning_1229_14_54_00.png\" />"
   ]
  },
  {
   "cell_type": "markdown",
   "metadata": {},
   "source": [
    "### Deep QLearning\n",
    "#### Approximation\n",
    "<img src=\"./performance_deep_q_learning_1229_15_17_25.png\" />"
   ]
  }
 ],
 "metadata": {
  "kernelspec": {
   "display_name": "Python 2",
   "language": "python",
   "name": "python2"
  },
  "language_info": {
   "codemirror_mode": {
    "name": "ipython",
    "version": 2
   },
   "file_extension": ".py",
   "mimetype": "text/x-python",
   "name": "python",
   "nbconvert_exporter": "python",
   "pygments_lexer": "ipython2",
   "version": "2.7.11"
  }
 },
 "nbformat": 4,
 "nbformat_minor": 0
}
