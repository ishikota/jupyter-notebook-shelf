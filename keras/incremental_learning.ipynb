{
 "cells": [
  {
   "cell_type": "markdown",
   "metadata": {},
   "source": [
    "# Test if Keras's `model.fit` supports incremental learning"
   ]
  },
  {
   "cell_type": "markdown",
   "metadata": {},
   "source": [
    "## Motivation"
   ]
  },
  {
   "cell_type": "markdown",
   "metadata": {},
   "source": [
    "from https://github.com/fchollet/keras/issues/68#issuecomment-218023789\n",
    "\n",
    "jfsantos\n",
    ">You should not call model.fit, as it does exactly what you said it does: reset and train a model from scratch. ...\n",
    "\n",
    "fchollet (author of Keras)\n",
    "> No, no, model.fit does NOT reset the weights of your model. It starts from\n",
    "the previous state of the model. You can definitely call model.fit multiple\n",
    "times."
   ]
  },
  {
   "cell_type": "markdown",
   "metadata": {},
   "source": [
    "## How to test"
   ]
  },
  {
   "cell_type": "markdown",
   "metadata": {},
   "source": [
    "Compare the training result between **usual training** and **incremental training**\n",
    "- **usual training** calls 'model.fit' just once with whole data\n",
    "- **incremental training** calls 'model.fit' for multiple times with part of entire data"
   ]
  },
  {
   "cell_type": "markdown",
   "metadata": {},
   "source": [
    "## Test data set\n",
    "mnist data\n",
    "- original is 28x28 size image but we convert it into 784 (28x28) dimensional vector here"
   ]
  },
  {
   "cell_type": "code",
   "execution_count": 2,
   "metadata": {
    "collapsed": false
   },
   "outputs": [],
   "source": [
    "from keras.datasets import mnist\n",
    "from keras.utils import np_utils\n",
    "(trainX, trainy), (testX, testy) = mnist.load_data()\n",
    "trainX, testX = [x.reshape(x.shape[0], x.shape[1] * x.shape[2]) for x in [trainX, testX]]\n",
    "trainY, testY = [np_utils.to_categorical(y, 10) for y in [trainy, testy]]"
   ]
  },
  {
   "cell_type": "markdown",
   "metadata": {},
   "source": [
    "scale input value range from [0, 255] to [0, 1]"
   ]
  },
  {
   "cell_type": "code",
   "execution_count": 7,
   "metadata": {
    "collapsed": true
   },
   "outputs": [],
   "source": [
    "trainX = trainX.astype('float32')\n",
    "testX = testX.astype('float32')\n",
    "trainX /= 255\n",
    "testX /= 255"
   ]
  },
  {
   "cell_type": "markdown",
   "metadata": {
    "collapsed": true
   },
   "source": [
    "## Model architecture for test"
   ]
  },
  {
   "cell_type": "markdown",
   "metadata": {},
   "source": [
    "2 layer Multi-Layer-Perceptron\n",
    "- input layer has 784 unit (784=28x28)\n",
    "- hidden layer has 100 unit\n",
    "- output layer has 10 unit (because 10 classes classification)"
   ]
  },
  {
   "cell_type": "code",
   "execution_count": 21,
   "metadata": {
    "collapsed": true
   },
   "outputs": [],
   "source": [
    "from keras.models import Sequential\n",
    "from keras.layers.core import Dense, Activation\n",
    "\n",
    "def gen_model(weight_path=None):\n",
    "    model = Sequential()\n",
    "    model.add(Dense(100, input_dim=784))\n",
    "    model.add(Activation(\"relu\"))\n",
    "    model.add(Dense(10))\n",
    "    model.add(Activation(\"softmax\"))\n",
    "    model.compile(loss=\"categorical_crossentropy\", optimizer=\"sgd\", metrics=[\"accuracy\"])\n",
    "    return model"
   ]
  },
  {
   "cell_type": "markdown",
   "metadata": {},
   "source": [
    "## Prepare helper functions"
   ]
  },
  {
   "cell_type": "code",
   "execution_count": 61,
   "metadata": {
    "collapsed": false
   },
   "outputs": [],
   "source": [
    "%matplotlib inline\n",
    "import numpy as np\n",
    "import matplotlib.pyplot as plt\n",
    "\n",
    "def plot_training_history(history):\n",
    "    plt.subplot(221)\n",
    "    plt.plot(np.arange(nb_epoch), history.history[\"loss\"], color=\"r\", label=\"loss\")\n",
    "    plt.subplot(222)\n",
    "    plt.plot(np.arange(nb_epoch), history.history[\"val_loss\"], color=\"b\", label=\"val_loss\")\n",
    "    plt.subplot(223)\n",
    "    plt.plot(np.arange(nb_epoch), history.history[\"acc\"], color=\"g\", label=\"acc\")\n",
    "    plt.subplot(224)\n",
    "    plt.plot(np.arange(nb_epoch), history.history[\"val_acc\"], color=\"y\", label=\"val_acc\")\n",
    "\n",
    "def plot_batch_history(loss_history, acc_history):\n",
    "    history_length = len(loss_history)\n",
    "    plt.figure(figsize=(10,10))\n",
    "    plt.subplot(121)\n",
    "    plt.plot(np.arange(history_length), loss_history, color=\"r\", label=\"loss\")\n",
    "    plt.subplot(122)\n",
    "    plt.plot(np.arange(history_length), acc_history, color=\"b\", label=\"acc\")\n",
    "    plt.show()"
   ]
  },
  {
   "cell_type": "code",
   "execution_count": 5,
   "metadata": {
    "collapsed": true
   },
   "outputs": [],
   "source": [
    "from sklearn.metrics import classification_report\n",
    "\n",
    "def evaluate_model(model, testX, testY):\n",
    "    Yhat = model.predict(testX)\n",
    "    yhat = np.argmax(Yhat, axis=1)\n",
    "    print(classification_report(testy, yhat))"
   ]
  },
  {
   "cell_type": "markdown",
   "metadata": {},
   "source": [
    "# Compare the usual and incremental training result"
   ]
  },
  {
   "cell_type": "markdown",
   "metadata": {},
   "source": [
    "## Usual training"
   ]
  },
  {
   "cell_type": "code",
   "execution_count": 8,
   "metadata": {
    "collapsed": false
   },
   "outputs": [
    {
     "name": "stdout",
     "output_type": "stream",
     "text": [
      "             precision    recall  f1-score   support\n",
      "\n",
      "          0       0.97      0.98      0.98       980\n",
      "          1       0.98      0.99      0.99      1135\n",
      "          2       0.97      0.98      0.98      1032\n",
      "          3       0.96      0.97      0.97      1010\n",
      "          4       0.98      0.98      0.98       982\n",
      "          5       0.97      0.96      0.97       892\n",
      "          6       0.97      0.97      0.97       958\n",
      "          7       0.97      0.97      0.97      1028\n",
      "          8       0.97      0.96      0.97       974\n",
      "          9       0.98      0.96      0.97      1009\n",
      "\n",
      "avg / total       0.97      0.97      0.97     10000\n",
      "\n"
     ]
    },
    {
     "data": {
      "image/png": "[encoded data removed]",
      "text/plain": [
       "<matplotlib.figure.Figure at 0x10ee5a850>"
      ]
     },
     "metadata": {},
     "output_type": "display_data"
    }
   ],
   "source": [
    "model = gen_model()\n",
    "nb_epoch = 200\n",
    "history = model.fit(trainX, trainY, batch_size=128, nb_epoch=nb_epoch, verbose=0, validation_split=0.1)\n",
    "plot_training_history(history)\n",
    "evaluate_model(model, testX, testY)"
   ]
  },
  {
   "cell_type": "markdown",
   "metadata": {},
   "source": [
    "## Incremental training"
   ]
  },
  {
   "cell_type": "code",
   "execution_count": 46,
   "metadata": {
    "collapsed": false
   },
   "outputs": [
    {
     "name": "stdout",
     "output_type": "stream",
     "text": [
      "             precision    recall  f1-score   support\n",
      "\n",
      "          0       0.96      0.99      0.97       980\n",
      "          1       0.98      0.99      0.98      1135\n",
      "          2       0.97      0.95      0.96      1032\n",
      "          3       0.94      0.97      0.95      1010\n",
      "          4       0.95      0.97      0.96       982\n",
      "          5       0.94      0.96      0.95       892\n",
      "          6       0.98      0.94      0.96       958\n",
      "          7       0.98      0.93      0.96      1028\n",
      "          8       0.97      0.92      0.94       974\n",
      "          9       0.93      0.97      0.95      1009\n",
      "\n",
      "avg / total       0.96      0.96      0.96     10000\n",
      "\n"
     ]
    }
   ],
   "source": [
    "model = gen_model()\n",
    "nb_epoch = 200\n",
    "gen_history = lambda X, Y: model.train_on_batch(np.array([X]), np.array([Y]))\n",
    "history_holder = [gen_history(trainX[i], trainY[i]) for i in range(len(trainX))]\n",
    "evaluate_model(model, testX, testY)"
   ]
  },
  {
   "cell_type": "code",
   "execution_count": 88,
   "metadata": {
    "collapsed": false
   },
   "outputs": [
    {
     "name": "stdout",
     "output_type": "stream",
     "text": [
      "metrics is ['loss', 'acc']\n"
     ]
    },
    {
     "data": {
      "image/png": "[encoded data removed]",
      "text/plain": [
       "<matplotlib.figure.Figure at 0x112c1a650>"
      ]
     },
     "metadata": {},
     "output_type": "display_data"
    }
   ],
   "source": [
    "print \"metrics is %s\" % model.metrics_names\n",
    "loss = [history_holder[i][0] for i in range(len(history_holder))]\n",
    "acc = [history_holder[i][1] for i in range(len(history_holder))]\n",
    "plot_batch_history(loss, acc)"
   ]
  },
  {
   "cell_type": "markdown",
   "metadata": {},
   "source": [
    "woops..."
   ]
  },
  {
   "cell_type": "markdown",
   "metadata": {},
   "source": [
    "## See training history by dividing into 100 partition"
   ]
  },
  {
   "cell_type": "code",
   "execution_count": 74,
   "metadata": {
    "collapsed": false
   },
   "outputs": [],
   "source": [
    "partition_base = 100\n",
    "interval = len(acc)/partition_base\n",
    "acc_partitioned = [acc[i*interval:(i+1)*interval] for i in range(partition_base)]\n",
    "loss_partitioned = [loss[i*interval:(i+1)*interval] for i in range(partition_base)]"
   ]
  },
  {
   "cell_type": "markdown",
   "metadata": {},
   "source": [
    "### Partitioned loss history"
   ]
  },
  {
   "cell_type": "code",
   "execution_count": 90,
   "metadata": {
    "collapsed": false
   },
   "outputs": [
    {
     "data": {
      "image/png": "[encoded data removed]",
      "text/plain": [
       "<matplotlib.figure.Figure at 0x112217710>"
      ]
     },
     "metadata": {},
     "output_type": "display_data"
    }
   ],
   "source": [
    "loss_sum_in_each_partition = map(sum, loss_partitioned)\n",
    "loss_avg_in_each_partition = [1.0*sumval/interval for sumval in loss_sum_in_each_partition]\n",
    "plt.plot(np.arange(len(loss_avg_in_each_partition)), loss_avg_in_each_partition)\n",
    "plt.xlabel(\"index of partition\")\n",
    "plt.ylabel(\"averate of loss in partition\")\n",
    "plt.title(\"transition of partitioned loss history\")\n",
    "plt.show()"
   ]
  },
  {
   "cell_type": "code",
   "execution_count": 89,
   "metadata": {
    "collapsed": false
   },
   "outputs": [
    {
     "data": {
      "image/png": "[encoded data removed]",
      "text/plain": [
       "<matplotlib.figure.Figure at 0x11299cb90>"
      ]
     },
     "metadata": {},
     "output_type": "display_data"
    }
   ],
   "source": [
    "acc_sum_in_each_partition = map(sum, acc_partitioned)\n",
    "acc_rate_in_each_partition = [1.0*sumval/interval for sumval in acc_sum_in_each_partition]\n",
    "plt.plot(np.arange(len(acc_rate_in_each_partition)), acc_rate_in_each_partition)\n",
    "plt.xlabel(\"index of partition\")\n",
    "plt.ylabel(\"accuracy rate in partition\")\n",
    "plt.title(\"transition of partitioned accuracy history\")\n",
    "plt.show()"
   ]
  },
  {
   "cell_type": "markdown",
   "metadata": {},
   "source": [
    "# Conclustion"
   ]
  },
  {
   "cell_type": "markdown",
   "metadata": {},
   "source": [
    "Keras's model.fit **supports** incremental learning\n",
    "\n",
    "when we use incremental learning ...\n",
    "- we should use `model.train_on_batch` instead of `model.fit`\n",
    "- the change of loss and accuracy in incremental training is drastic. So we should partition it when observe."
   ]
  }
 ],
 "metadata": {
  "kernelspec": {
   "display_name": "Python 2",
   "language": "python",
   "name": "python2"
  },
  "language_info": {
   "codemirror_mode": {
    "name": "ipython",
    "version": 2
   },
   "file_extension": ".py",
   "mimetype": "text/x-python",
   "name": "python",
   "nbconvert_exporter": "python",
   "pygments_lexer": "ipython2",
   "version": "2.7.11"
  }
 },
 "nbformat": 4,
 "nbformat_minor": 0
}
