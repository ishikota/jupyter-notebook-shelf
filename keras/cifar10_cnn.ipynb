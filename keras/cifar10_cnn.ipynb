{
 "cells": [
  {
   "cell_type": "markdown",
   "metadata": {},
   "source": [
    "# Setup"
   ]
  },
  {
   "cell_type": "markdown",
   "metadata": {},
   "source": [
    "### Load image data"
   ]
  },
  {
   "cell_type": "code",
   "execution_count": 1,
   "metadata": {
    "collapsed": true
   },
   "outputs": [],
   "source": [
    "from keras.datasets import cifar10\n",
    "(trainX, trainy), (testX, testy) = cifar10.load_data()\n",
    "\n",
    "# Scale down pixcel value range to from [0,255] to [0,1]\n",
    "trainX = trainX.astype(\"float32\")\n",
    "testX = testX.astype(\"float32\")\n",
    "trainX /= 255\n",
    "testX  /= 255\n",
    "\n",
    "# Change format of y to 1-hot vector\n",
    "from keras.utils import np_utils\n",
    "trainY = np_utils.to_categorical(trainy, 10)\n",
    "testY = np_utils.to_categorical(testy, 10)"
   ]
  },
  {
   "cell_type": "markdown",
   "metadata": {},
   "source": [
    "### Define model architecture"
   ]
  },
  {
   "cell_type": "code",
   "execution_count": 4,
   "metadata": {
    "collapsed": false
   },
   "outputs": [],
   "source": [
    "from keras.models import Sequential\n",
    "from keras.layers.convolutional import Convolution2D, MaxPooling2D\n",
    "from keras.layers.core import Activation, Dense, Flatten\n",
    "\n",
    "model = Sequential()\n",
    "# Alternating convolutions and nonlinearities\n",
    "model.add(Convolution2D(32, 3, 3, border_mode=\"same\", input_shape=(3, 32, 32)))\n",
    "model.add(Activation(\"relu\"))\n",
    "model.add(Convolution2D(32, 3, 3))\n",
    "model.add(Activation(\"relu\"))\n",
    "model.add(MaxPooling2D(pool_size=(2,2)))\n",
    "\n",
    "model.add(Convolution2D(32, 3, 3, border_mode=\"same\"))\n",
    "model.add(Activation(\"relu\"))\n",
    "model.add(Convolution2D(64, 3, 3))\n",
    "model.add(Activation(\"relu\"))\n",
    "model.add(MaxPooling2D(pool_size=(2,2)))\n",
    "\n",
    "# fully connected layers from here and connected to softmax layer\n",
    "model.add(Flatten())\n",
    "model.add(Dense(512))\n",
    "model.add(Activation(\"relu\"))\n",
    "model.add(Dense(10))\n",
    "model.add(Activation(\"softmax\"))\n",
    "\n",
    "model.compile(loss=\"categorical_crossentropy\", optimizer=\"sgd\", metrics=[\"accuracy\"])"
   ]
  },
  {
   "cell_type": "code",
   "execution_count": 5,
   "metadata": {
    "collapsed": false
   },
   "outputs": [
    {
     "name": "stdout",
     "output_type": "stream",
     "text": [
      "Train on 45000 samples, validate on 5000 samples\n",
      "Epoch 1/10\n",
      "45000/45000 [==============================] - 384s - loss: 2.1994 - acc: 0.1855 - val_loss: 2.1646 - val_acc: 0.1954\n",
      "Epoch 2/10\n",
      "45000/45000 [==============================] - 387s - loss: 1.9537 - acc: 0.3001 - val_loss: 1.8563 - val_acc: 0.3456\n",
      "Epoch 3/10\n",
      "45000/45000 [==============================] - 386s - loss: 1.8233 - acc: 0.3524 - val_loss: 1.7725 - val_acc: 0.3740\n",
      "Epoch 4/10\n",
      "45000/45000 [==============================] - 392s - loss: 1.7142 - acc: 0.3944 - val_loss: 1.6461 - val_acc: 0.4204\n",
      "Epoch 5/10\n",
      "45000/45000 [==============================] - 385s - loss: 1.6058 - acc: 0.4338 - val_loss: 1.5389 - val_acc: 0.4512\n",
      "Epoch 6/10\n",
      "45000/45000 [==============================] - 380s - loss: 1.5265 - acc: 0.4620 - val_loss: 1.4877 - val_acc: 0.4674\n",
      "Epoch 7/10\n",
      "45000/45000 [==============================] - 383s - loss: 1.4580 - acc: 0.4853 - val_loss: 1.4167 - val_acc: 0.4966\n",
      "Epoch 8/10\n",
      "45000/45000 [==============================] - 377s - loss: 1.4102 - acc: 0.5018 - val_loss: 1.5314 - val_acc: 0.4560\n",
      "Epoch 9/10\n",
      "45000/45000 [==============================] - 382s - loss: 1.3615 - acc: 0.5175 - val_loss: 1.3763 - val_acc: 0.5074\n",
      "Epoch 10/10\n",
      "45000/45000 [==============================] - 381s - loss: 1.3159 - acc: 0.5356 - val_loss: 1.3245 - val_acc: 0.5230\n"
     ]
    },
    {
     "data": {
      "text/plain": [
       "<keras.callbacks.History at 0x145ddf190>"
      ]
     },
     "execution_count": 5,
     "metadata": {},
     "output_type": "execute_result"
    }
   ],
   "source": [
    "model.fit(trainX, trainY, batch_size=128, nb_epoch=10, validation_split=0.1, verbose=1)"
   ]
  },
  {
   "cell_type": "code",
   "execution_count": null,
   "metadata": {
    "collapsed": true
   },
   "outputs": [],
   "source": []
  }
 ],
 "metadata": {
  "kernelspec": {
   "display_name": "Python 2",
   "language": "python",
   "name": "python2"
  },
  "language_info": {
   "codemirror_mode": {
    "name": "ipython",
    "version": 2
   },
   "file_extension": ".py",
   "mimetype": "text/x-python",
   "name": "python",
   "nbconvert_exporter": "python",
   "pygments_lexer": "ipython2",
   "version": "2.7.11"
  }
 },
 "nbformat": 4,
 "nbformat_minor": 0
}
