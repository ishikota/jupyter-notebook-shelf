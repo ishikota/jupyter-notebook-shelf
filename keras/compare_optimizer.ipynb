{
 "cells": [
  {
   "cell_type": "markdown",
   "metadata": {},
   "source": [
    "# Setup"
   ]
  },
  {
   "cell_type": "markdown",
   "metadata": {},
   "source": [
    "### Setup mnist dataset"
   ]
  },
  {
   "cell_type": "code",
   "execution_count": 59,
   "metadata": {
    "collapsed": false
   },
   "outputs": [],
   "source": [
    "from keras.datasets import mnist\n",
    "from keras.utils import np_utils\n",
    "\n",
    "# Load larning data\n",
    "(trainX, trainy), (testX, testy) = mnist.load_data()\n",
    "trainX, testX = [x.reshape(x.shape[0], x.shape[1] * x.shape[2]) for x in [trainX, testX]]\n",
    "trainY, testY = [np_utils.to_categorical(y, 10) for y in [trainy, testy]]"
   ]
  },
  {
   "cell_type": "markdown",
   "metadata": {},
   "source": [
    "### Prepare helper function"
   ]
  },
  {
   "cell_type": "code",
   "execution_count": 60,
   "metadata": {
    "collapsed": true
   },
   "outputs": [],
   "source": [
    "%matplotlib inline\n",
    "import numpy as np\n",
    "import matplotlib.pyplot as plt\n",
    "\n",
    "def plot_training_history(history):\n",
    "    plt.subplot(221)\n",
    "    plt.plot(np.arange(nb_epoch), history.history[\"loss\"], color=\"r\", label=\"loss\")\n",
    "    plt.subplot(222)\n",
    "    plt.plot(np.arange(nb_epoch), history.history[\"val_loss\"], color=\"b\", label=\"val_loss\")\n",
    "    plt.subplot(223)\n",
    "    plt.plot(np.arange(nb_epoch), history.history[\"acc\"], color=\"g\", label=\"acc\")\n",
    "    plt.subplot(224)\n",
    "    plt.plot(np.arange(nb_epoch), history.history[\"val_acc\"], color=\"y\", label=\"val_acc\")"
   ]
  },
  {
   "cell_type": "code",
   "execution_count": 61,
   "metadata": {
    "collapsed": true
   },
   "outputs": [],
   "source": [
    "from sklearn.metrics import classification_report\n",
    "\n",
    "def evaluate_model(model, testX, testY):\n",
    "    Yhat = model.predict(testX)\n",
    "    yhat = np.argmax(Yhat, axis=1)\n",
    "    print(classification_report(testy, yhat))"
   ]
  },
  {
   "cell_type": "markdown",
   "metadata": {},
   "source": [
    "# Compare optimizer behavior"
   ]
  },
  {
   "cell_type": "markdown",
   "metadata": {},
   "source": [
    "### Experiment situation\n",
    "- Problem : mnist classification (without input scaling)\n",
    "- model : 1 hidden-layer feed-forward network"
   ]
  },
  {
   "cell_type": "markdown",
   "metadata": {},
   "source": [
    "### SGD\n",
    "- trapped in Plateau around 5 epoch 70 epoch"
   ]
  },
  {
   "cell_type": "code",
   "execution_count": 41,
   "metadata": {
    "collapsed": false
   },
   "outputs": [
    {
     "name": "stdout",
     "output_type": "stream",
     "text": [
      "             precision    recall  f1-score   support\n",
      "\n",
      "          0       0.94      0.99      0.97       980\n",
      "          1       0.91      0.99      0.95      1135\n",
      "          2       0.96      0.87      0.91      1032\n",
      "          3       0.57      0.97      0.72      1010\n",
      "          4       0.73      0.94      0.82       982\n",
      "          5       0.79      0.91      0.84       892\n",
      "          6       0.91      0.95      0.93       958\n",
      "          7       0.56      0.98      0.71      1028\n",
      "          8       0.00      0.00      0.00       974\n",
      "          9       0.00      0.00      0.00      1009\n",
      "\n",
      "avg / total       0.64      0.76      0.69     10000\n",
      "\n"
     ]
    },
    {
     "data": {
      "image/png": "[encoded data removed]",
      "text/plain": [
       "<matplotlib.figure.Figure at 0x11b80de10>"
      ]
     },
     "metadata": {},
     "output_type": "display_data"
    }
   ],
   "source": [
    "from keras.models import Sequential\n",
    "from keras.layers.core import Dense, Activation\n",
    "\n",
    "# Define model architecture\n",
    "model = Sequential()\n",
    "model.add(Dense(100, input_shape=(784,)))\n",
    "model.add(Activation(\"relu\"))\n",
    "model.add(Dense(10))\n",
    "model.add(Activation(\"softmax\"))\n",
    "model.compile(loss=\"categorical_crossentropy\", optimizer=\"sgd\", metrics=[\"accuracy\"])\n",
    "\n",
    "# Start training\n",
    "nb_epoch = 20\n",
    "history = model.fit(trainX, trainY, batch_size=128, nb_epoch=nb_epoch, verbose=0, validation_split=0.1)\n",
    "plot_training_history(history)\n",
    "evaluate_model(model, testX, testY)"
   ]
  },
  {
   "cell_type": "markdown",
   "metadata": {},
   "source": [
    "### AdaGrad\n",
    "- trapped in Plateau around 5 epoch but escaped around 20 epoch"
   ]
  },
  {
   "cell_type": "code",
   "execution_count": 47,
   "metadata": {
    "collapsed": false,
    "scrolled": false
   },
   "outputs": [
    {
     "name": "stdout",
     "output_type": "stream",
     "text": [
      "             precision    recall  f1-score   support\n",
      "\n",
      "          0       0.81      0.99      0.89       980\n",
      "          1       0.92      0.99      0.95      1135\n",
      "          2       0.00      0.00      0.00      1032\n",
      "          3       0.38      0.98      0.55      1010\n",
      "          4       0.46      0.99      0.63       982\n",
      "          5       0.00      0.00      0.00       892\n",
      "          6       0.85      0.97      0.91       958\n",
      "          7       0.00      0.00      0.00      1028\n",
      "          8       0.52      0.95      0.67       974\n",
      "          9       0.00      0.00      0.00      1009\n",
      "\n",
      "avg / total       0.40      0.59      0.46     10000\n",
      "\n"
     ]
    },
    {
     "data": {
      "image/png": "[encoded data removed]",
      "text/plain": [
       "<matplotlib.figure.Figure at 0x113b720d0>"
      ]
     },
     "metadata": {},
     "output_type": "display_data"
    }
   ],
   "source": [
    "from keras.models import Sequential\n",
    "from keras.layers.core import Dense, Activation\n",
    "\n",
    "# Define model architecture\n",
    "model = Sequential()\n",
    "model.add(Dense(100, input_shape=(784,)))\n",
    "model.add(Activation(\"relu\"))\n",
    "model.add(Dense(10))\n",
    "model.add(Activation(\"softmax\"))\n",
    "model.compile(loss=\"categorical_crossentropy\", optimizer=\"adagrad\", metrics=[\"accuracy\"])\n",
    "\n",
    "# Start training\n",
    "nb_epoch = 200\n",
    "history = model.fit(trainX, trainY, batch_size=128, nb_epoch=nb_epoch, verbose=0, validation_split=0.1)\n",
    "plot_training_history(history)\n",
    "evaluate_model(model, testX, testY)"
   ]
  }
 ],
 "metadata": {
  "kernelspec": {
   "display_name": "Python 2",
   "language": "python",
   "name": "python2"
  },
  "language_info": {
   "codemirror_mode": {
    "name": "ipython",
    "version": 2
   },
   "file_extension": ".py",
   "mimetype": "text/x-python",
   "name": "python",
   "nbconvert_exporter": "python",
   "pygments_lexer": "ipython2",
   "version": "2.7.11"
  }
 },
 "nbformat": 4,
 "nbformat_minor": 0
}
